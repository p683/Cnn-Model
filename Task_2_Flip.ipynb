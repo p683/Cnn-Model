{
  "nbformat": 4,
  "nbformat_minor": 0,
  "metadata": {
    "colab": {
      "name": "Task_2_Flip.ipynb",
      "provenance": [],
      "collapsed_sections": []
    },
    "kernelspec": {
      "name": "python3",
      "display_name": "Python 3"
    },
    "accelerator": "GPU"
  },
  "cells": [
    {
      "cell_type": "code",
      "metadata": {
        "id": "n9aV95DXM_co",
        "colab_type": "code",
        "colab": {
          "base_uri": "https://localhost:8080/",
          "height": 122
        },
        "outputId": "f85888f6-13ad-4d92-d96e-776d78cc29b8"
      },
      "source": [
        "from google.colab import drive\n",
        "drive.mount('/content/gdrive')"
      ],
      "execution_count": null,
      "outputs": [
        {
          "output_type": "stream",
          "text": [
            "Go to this URL in a browser: https://accounts.google.com/o/oauth2/auth?client_id=947318989803-6bn6qk8qdgf4n4g3pfee6491hc0brc4i.apps.googleusercontent.com&redirect_uri=urn%3aietf%3awg%3aoauth%3a2.0%3aoob&response_type=code&scope=email%20https%3a%2f%2fwww.googleapis.com%2fauth%2fdocs.test%20https%3a%2f%2fwww.googleapis.com%2fauth%2fdrive%20https%3a%2f%2fwww.googleapis.com%2fauth%2fdrive.photos.readonly%20https%3a%2f%2fwww.googleapis.com%2fauth%2fpeopleapi.readonly\n",
            "\n",
            "Enter your authorization code:\n",
            "··········\n",
            "Mounted at /content/gdrive\n"
          ],
          "name": "stdout"
        }
      ]
    },
    {
      "cell_type": "code",
      "metadata": {
        "id": "q_5w7L20OVE5",
        "colab_type": "code",
        "colab": {
          "base_uri": "https://localhost:8080/",
          "height": 68
        },
        "outputId": "ec5a09a9-b87b-4495-c78c-f2d2bf4dd8bb"
      },
      "source": [
        "%tensorflow_version 1.x\n",
        "import tensorflow as tf\n",
        "print(tf.__version__)\n",
        "from keras import backend as K"
      ],
      "execution_count": null,
      "outputs": [
        {
          "output_type": "stream",
          "text": [
            "TensorFlow 1.x selected.\n",
            "1.15.2\n"
          ],
          "name": "stdout"
        },
        {
          "output_type": "stream",
          "text": [
            "Using TensorFlow backend.\n"
          ],
          "name": "stderr"
        }
      ]
    },
    {
      "cell_type": "code",
      "metadata": {
        "id": "3LJAmRdZOVIM",
        "colab_type": "code",
        "colab": {}
      },
      "source": [
        "import numpy as np # linear algebra\n",
        "import pandas as pd # data processing, CSV file I/O (e.g. pd.read_csv)\n",
        "import matplotlib.pyplot as plt\n",
        "import matplotlib.image as mpimg\n",
        "%matplotlib inline\n",
        "\n",
        "import tensorflow as tf\n",
        "import keras \n",
        "from tensorflow.keras.preprocessing.image import ImageDataGenerator\n",
        "from tensorflow.keras.preprocessing.image import img_to_array, load_img\n",
        "from keras.models import Sequential\n",
        "from keras.layers import Dense, Dropout, Flatten\n",
        "from keras.layers import Conv2D, MaxPooling2D\n",
        "import random"
      ],
      "execution_count": null,
      "outputs": []
    },
    {
      "cell_type": "code",
      "metadata": {
        "id": "xX3Ct4LzVEIk",
        "colab_type": "code",
        "colab": {}
      },
      "source": [
        "batch_size = 32   # Batch size is required for backward Propogation \n",
        "num_classes = 3   # Classes are jeans , saree , trouser.\n",
        "epochs = 20\n",
        "nb_train_samples=240\n",
        "nb_validation_samples=60"
      ],
      "execution_count": null,
      "outputs": []
    },
    {
      "cell_type": "code",
      "metadata": {
        "id": "gJSbhK8yOVLY",
        "colab_type": "code",
        "colab": {}
      },
      "source": [
        "# Specifying the Size of the Images\n",
        "input_shape=(150,150,3)\n",
        "img_width=150\n",
        "img_height=150"
      ],
      "execution_count": null,
      "outputs": []
    },
    {
      "cell_type": "code",
      "metadata": {
        "id": "MdXoxvoyOVOl",
        "colab_type": "code",
        "colab": {}
      },
      "source": [
        "# Importing the data from the drive\n",
        "train_data_dir = \"/content/gdrive/My Drive/Dataset/Training Images\"\n",
        "# For the test set\n",
        "validation_data_dir = \"/content/gdrive/My Drive/Dataset/Testing Images\""
      ],
      "execution_count": null,
      "outputs": []
    },
    {
      "cell_type": "markdown",
      "metadata": {
        "id": "I3S1r8wQS0Bc",
        "colab_type": "text"
      },
      "source": [
        " Rescaling the Input Images , Normalising it . \n",
        "Data Augmentaion "
      ]
    },
    {
      "cell_type": "code",
      "metadata": {
        "id": "y3J07HpgSjVP",
        "colab_type": "code",
        "colab": {}
      },
      "source": [
        "training_datagen = ImageDataGenerator(\n",
        "    rescale = 1./255,\n",
        "    rotation_range=40,\n",
        "    width_shift_range=0.2,\n",
        "    height_shift_range=0.2,\n",
        "    shear_range=0.2,\n",
        "    zoom_range=0.2,\n",
        "    horizontal_flip=True,\n",
        "    fill_mode='nearest')\n",
        "\n",
        "\n",
        "\n",
        "validation_datagen = ImageDataGenerator(rescale = 1./255)"
      ],
      "execution_count": null,
      "outputs": []
    },
    {
      "cell_type": "code",
      "metadata": {
        "id": "UJTBmMtcOVRP",
        "colab_type": "code",
        "colab": {
          "base_uri": "https://localhost:8080/",
          "height": 51
        },
        "outputId": "f872ca3c-3f0e-4f8f-c046-8fc944032d69"
      },
      "source": [
        "train_generator=training_datagen.flow_from_directory(\n",
        "         train_data_dir,\n",
        "         target_size=(img_width,img_height),\n",
        "         batch_size=32,\n",
        "         class_mode='categorical')\n",
        "\n",
        "validation_generator=validation_datagen.flow_from_directory(\n",
        "         validation_data_dir,\n",
        "         target_size=(img_width,img_height),\n",
        "         batch_size=32,\n",
        "         class_mode='categorical')"
      ],
      "execution_count": null,
      "outputs": [
        {
          "output_type": "stream",
          "text": [
            "Found 240 images belonging to 3 classes.\n",
            "Found 60 images belonging to 3 classes.\n"
          ],
          "name": "stdout"
        }
      ]
    },
    {
      "cell_type": "markdown",
      "metadata": {
        "id": "LcoY94cnWcm2",
        "colab_type": "text"
      },
      "source": [
        "Building the Model."
      ]
    },
    {
      "cell_type": "code",
      "metadata": {
        "id": "2XDUiFtQOVUQ",
        "colab_type": "code",
        "colab": {
          "base_uri": "https://localhost:8080/",
          "height": 122
        },
        "outputId": "1edb09f1-241c-432f-ec03-a6f419869b68"
      },
      "source": [
        "model = Sequential()\n",
        "model.add(Conv2D(32, kernel_size=(3, 3),\n",
        "                 activation='relu',\n",
        "                 input_shape=input_shape))\n",
        "model.add(Conv2D(64, (3, 3), activation='relu'))\n",
        "model.add(MaxPooling2D(pool_size=(2, 2)))\n",
        "model.add(Dropout(0.25))\n",
        "#flatten layer\n",
        "model.add(Flatten()) # Output convert into one dimension layer and will go to Dense layer\n",
        "model.add(Dense(128, activation='relu'))\n",
        "model.add(Dropout(0.5))\n",
        "model.add(Dense(num_classes, activation='softmax'))"
      ],
      "execution_count": null,
      "outputs": [
        {
          "output_type": "stream",
          "text": [
            "WARNING:tensorflow:From /tensorflow-1.15.2/python3.6/tensorflow_core/python/ops/resource_variable_ops.py:1630: calling BaseResourceVariable.__init__ (from tensorflow.python.ops.resource_variable_ops) with constraint is deprecated and will be removed in a future version.\n",
            "Instructions for updating:\n",
            "If using Keras pass *_constraint arguments to layers.\n",
            "WARNING:tensorflow:From /usr/local/lib/python3.6/dist-packages/keras/backend/tensorflow_backend.py:4070: The name tf.nn.max_pool is deprecated. Please use tf.nn.max_pool2d instead.\n",
            "\n"
          ],
          "name": "stdout"
        }
      ]
    },
    {
      "cell_type": "code",
      "metadata": {
        "id": "Y_H06VmIOVXr",
        "colab_type": "code",
        "colab": {
          "base_uri": "https://localhost:8080/",
          "height": 425
        },
        "outputId": "012690c2-eb29-46bd-98c4-89322938e29f"
      },
      "source": [
        "model.summary()"
      ],
      "execution_count": null,
      "outputs": [
        {
          "output_type": "stream",
          "text": [
            "Model: \"sequential_1\"\n",
            "_________________________________________________________________\n",
            "Layer (type)                 Output Shape              Param #   \n",
            "=================================================================\n",
            "conv2d_1 (Conv2D)            (None, 148, 148, 32)      896       \n",
            "_________________________________________________________________\n",
            "conv2d_2 (Conv2D)            (None, 146, 146, 64)      18496     \n",
            "_________________________________________________________________\n",
            "max_pooling2d_1 (MaxPooling2 (None, 73, 73, 64)        0         \n",
            "_________________________________________________________________\n",
            "dropout_1 (Dropout)          (None, 73, 73, 64)        0         \n",
            "_________________________________________________________________\n",
            "flatten_1 (Flatten)          (None, 341056)            0         \n",
            "_________________________________________________________________\n",
            "dense_1 (Dense)              (None, 128)               43655296  \n",
            "_________________________________________________________________\n",
            "dropout_2 (Dropout)          (None, 128)               0         \n",
            "_________________________________________________________________\n",
            "dense_2 (Dense)              (None, 3)                 387       \n",
            "=================================================================\n",
            "Total params: 43,675,075\n",
            "Trainable params: 43,675,075\n",
            "Non-trainable params: 0\n",
            "_________________________________________________________________\n"
          ],
          "name": "stdout"
        }
      ]
    },
    {
      "cell_type": "code",
      "metadata": {
        "id": "a_kRgvTQes-D",
        "colab_type": "code",
        "colab": {}
      },
      "source": [
        "model.compile(loss=keras.losses.categorical_crossentropy,\n",
        "              optimizer=keras.optimizers.Adadelta(),\n",
        "              metrics=['accuracy'])"
      ],
      "execution_count": null,
      "outputs": []
    },
    {
      "cell_type": "code",
      "metadata": {
        "id": "wI_LBznOetBh",
        "colab_type": "code",
        "colab": {
          "base_uri": "https://localhost:8080/",
          "height": 751
        },
        "outputId": "d8c38fbe-2487-4b98-b6cd-28916f58172c"
      },
      "source": [
        "history=model.fit_generator(\n",
        "    train_generator,\n",
        "    steps_per_epoch=nb_train_samples//batch_size,\n",
        "    epochs=epochs,\n",
        "    verbose=1,\n",
        "    validation_data=validation_generator,\n",
        "    validation_steps=nb_validation_samples//batch_size)"
      ],
      "execution_count": null,
      "outputs": [
        {
          "output_type": "stream",
          "text": [
            "WARNING:tensorflow:From /usr/local/lib/python3.6/dist-packages/keras/backend/tensorflow_backend.py:422: The name tf.global_variables is deprecated. Please use tf.compat.v1.global_variables instead.\n",
            "\n",
            "Epoch 1/20\n",
            "7/7 [==============================] - 100s 14s/step - loss: 5.3582 - accuracy: 0.3558 - val_loss: 1.0126 - val_accuracy: 0.6250\n",
            "Epoch 2/20\n",
            "7/7 [==============================] - 16s 2s/step - loss: 0.9778 - accuracy: 0.4471 - val_loss: 1.2031 - val_accuracy: 0.2857\n",
            "Epoch 3/20\n",
            "7/7 [==============================] - 2s 284ms/step - loss: 0.9155 - accuracy: 0.5357 - val_loss: 0.8719 - val_accuracy: 0.6250\n",
            "Epoch 4/20\n",
            "7/7 [==============================] - 2s 264ms/step - loss: 0.9462 - accuracy: 0.6058 - val_loss: 0.7522 - val_accuracy: 0.5714\n",
            "Epoch 5/20\n",
            "7/7 [==============================] - 2s 256ms/step - loss: 0.8229 - accuracy: 0.5885 - val_loss: 0.5824 - val_accuracy: 0.7500\n",
            "Epoch 6/20\n",
            "7/7 [==============================] - 2s 282ms/step - loss: 0.8234 - accuracy: 0.5893 - val_loss: 0.6661 - val_accuracy: 0.7143\n",
            "Epoch 7/20\n",
            "7/7 [==============================] - 2s 276ms/step - loss: 0.7216 - accuracy: 0.6635 - val_loss: 0.5613 - val_accuracy: 0.7500\n",
            "Epoch 8/20\n",
            "7/7 [==============================] - 2s 251ms/step - loss: 0.7347 - accuracy: 0.6394 - val_loss: 0.5257 - val_accuracy: 0.7500\n",
            "Epoch 9/20\n",
            "7/7 [==============================] - 2s 268ms/step - loss: 0.6847 - accuracy: 0.6923 - val_loss: 0.4904 - val_accuracy: 0.8438\n",
            "Epoch 10/20\n",
            "7/7 [==============================] - 2s 264ms/step - loss: 0.5890 - accuracy: 0.7260 - val_loss: 0.4061 - val_accuracy: 0.8571\n",
            "Epoch 11/20\n",
            "7/7 [==============================] - 2s 278ms/step - loss: 0.6487 - accuracy: 0.7115 - val_loss: 0.6437 - val_accuracy: 0.8125\n",
            "Epoch 12/20\n",
            "7/7 [==============================] - 2s 295ms/step - loss: 0.6012 - accuracy: 0.7143 - val_loss: 0.4548 - val_accuracy: 0.7857\n",
            "Epoch 13/20\n",
            "7/7 [==============================] - 2s 275ms/step - loss: 0.5931 - accuracy: 0.7067 - val_loss: 0.4341 - val_accuracy: 0.8750\n",
            "Epoch 14/20\n",
            "7/7 [==============================] - 2s 262ms/step - loss: 0.6961 - accuracy: 0.7260 - val_loss: 0.5526 - val_accuracy: 0.7857\n",
            "Epoch 15/20\n",
            "7/7 [==============================] - 2s 275ms/step - loss: 0.5155 - accuracy: 0.7404 - val_loss: 0.4503 - val_accuracy: 0.8750\n",
            "Epoch 16/20\n",
            "7/7 [==============================] - 2s 253ms/step - loss: 0.6174 - accuracy: 0.7500 - val_loss: 0.4620 - val_accuracy: 0.8214\n",
            "Epoch 17/20\n",
            "7/7 [==============================] - 2s 299ms/step - loss: 0.5598 - accuracy: 0.7411 - val_loss: 0.5426 - val_accuracy: 0.7500\n",
            "Epoch 18/20\n",
            "7/7 [==============================] - 2s 234ms/step - loss: 0.6015 - accuracy: 0.7448 - val_loss: 0.3453 - val_accuracy: 0.8929\n",
            "Epoch 19/20\n",
            "7/7 [==============================] - 2s 279ms/step - loss: 0.5353 - accuracy: 0.7500 - val_loss: 0.4682 - val_accuracy: 0.8438\n",
            "Epoch 20/20\n",
            "7/7 [==============================] - 2s 280ms/step - loss: 0.6796 - accuracy: 0.7188 - val_loss: 0.2263 - val_accuracy: 0.9643\n"
          ],
          "name": "stdout"
        }
      ]
    },
    {
      "cell_type": "markdown",
      "metadata": {
        "id": "Lu5yByzSbOFY",
        "colab_type": "text"
      },
      "source": [
        "Optimization Techniques by changing the optimizers and weights of the data"
      ]
    },
    {
      "cell_type": "code",
      "metadata": {
        "id": "Mi5S_lQRdxJf",
        "colab_type": "code",
        "colab": {}
      },
      "source": [
        "from keras.optimizers import SGD"
      ],
      "execution_count": null,
      "outputs": []
    },
    {
      "cell_type": "code",
      "metadata": {
        "id": "ZPbgp-ChetEd",
        "colab_type": "code",
        "colab": {}
      },
      "source": [
        "model = Sequential()\n",
        "model.add(Conv2D(32, (3, 3), activation='relu', kernel_initializer='he_uniform', input_shape=input_shape))\n",
        "model.add(MaxPooling2D((2, 2)))\n",
        "model.add(Conv2D(64, (3, 3), activation='relu', kernel_initializer='he_uniform'))\n",
        "model.add(MaxPooling2D((2, 2)))\n",
        "model.add(Conv2D(128, (3, 3), activation='relu', kernel_initializer='he_uniform'))\n",
        "model.add(Flatten())\n",
        "model.add(Dense(128, activation='relu', kernel_initializer='he_uniform'))\n",
        "model.add(Dense(3, activation='softmax'))\n",
        "# compile model\n",
        "opt = SGD(lr=0.001, momentum=0.9)\n",
        "model.compile(optimizer=opt, loss='categorical_crossentropy', metrics=['accuracy'])"
      ],
      "execution_count": null,
      "outputs": []
    },
    {
      "cell_type": "code",
      "metadata": {
        "id": "HLcmZ9xYeHdn",
        "colab_type": "code",
        "colab": {}
      },
      "source": [
        "# Using batch_size 16\n",
        "batch_size = 16"
      ],
      "execution_count": null,
      "outputs": []
    },
    {
      "cell_type": "code",
      "metadata": {
        "id": "Gw8txddcetHg",
        "colab_type": "code",
        "colab": {
          "base_uri": "https://localhost:8080/",
          "height": 697
        },
        "outputId": "a570acd8-a04d-4ed8-8d72-8792b2860746"
      },
      "source": [
        "# Using the Stochastic Gradient Descent with momentum For faster convergence\n",
        "history=model.fit_generator(\n",
        "    train_generator,\n",
        "    steps_per_epoch=nb_train_samples//batch_size,\n",
        "    epochs=epochs,\n",
        "    verbose=1,\n",
        "    validation_data=validation_generator,\n",
        "    validation_steps=nb_validation_samples//batch_size)"
      ],
      "execution_count": null,
      "outputs": [
        {
          "output_type": "stream",
          "text": [
            "Epoch 1/20\n",
            "15/15 [==============================] - 4s 270ms/step - loss: 2.0845 - accuracy: 0.3705 - val_loss: 0.9987 - val_accuracy: 0.5109\n",
            "Epoch 2/20\n",
            "15/15 [==============================] - 4s 262ms/step - loss: 0.9910 - accuracy: 0.5179 - val_loss: 0.7147 - val_accuracy: 0.7045\n",
            "Epoch 3/20\n",
            "15/15 [==============================] - 4s 253ms/step - loss: 0.7866 - accuracy: 0.6562 - val_loss: 0.5825 - val_accuracy: 0.8587\n",
            "Epoch 4/20\n",
            "15/15 [==============================] - 4s 274ms/step - loss: 0.6719 - accuracy: 0.6724 - val_loss: 0.5919 - val_accuracy: 0.7159\n",
            "Epoch 5/20\n",
            "15/15 [==============================] - 4s 248ms/step - loss: 0.8043 - accuracy: 0.5833 - val_loss: 0.6581 - val_accuracy: 0.7391\n",
            "Epoch 6/20\n",
            "15/15 [==============================] - 4s 274ms/step - loss: 0.6953 - accuracy: 0.6562 - val_loss: 0.5126 - val_accuracy: 0.7727\n",
            "Epoch 7/20\n",
            "15/15 [==============================] - 4s 259ms/step - loss: 0.5993 - accuracy: 0.7069 - val_loss: 0.4671 - val_accuracy: 0.8478\n",
            "Epoch 8/20\n",
            "15/15 [==============================] - 4s 262ms/step - loss: 0.5269 - accuracy: 0.7478 - val_loss: 0.3587 - val_accuracy: 0.7614\n",
            "Epoch 9/20\n",
            "15/15 [==============================] - 4s 273ms/step - loss: 0.4789 - accuracy: 0.7902 - val_loss: 0.3727 - val_accuracy: 0.8370\n",
            "Epoch 10/20\n",
            "15/15 [==============================] - 4s 287ms/step - loss: 0.5417 - accuracy: 0.7299 - val_loss: 0.4525 - val_accuracy: 0.7614\n",
            "Epoch 11/20\n",
            "15/15 [==============================] - 4s 265ms/step - loss: 0.5645 - accuracy: 0.7232 - val_loss: 0.5347 - val_accuracy: 0.7500\n",
            "Epoch 12/20\n",
            "15/15 [==============================] - 4s 274ms/step - loss: 0.4738 - accuracy: 0.7759 - val_loss: 0.4108 - val_accuracy: 0.8977\n",
            "Epoch 13/20\n",
            "15/15 [==============================] - 4s 260ms/step - loss: 0.4861 - accuracy: 0.7835 - val_loss: 0.4558 - val_accuracy: 0.8370\n",
            "Epoch 14/20\n",
            "15/15 [==============================] - 4s 268ms/step - loss: 0.4642 - accuracy: 0.7835 - val_loss: 0.2974 - val_accuracy: 0.8409\n",
            "Epoch 15/20\n",
            "15/15 [==============================] - 4s 253ms/step - loss: 0.4583 - accuracy: 0.8080 - val_loss: 0.3996 - val_accuracy: 0.8804\n",
            "Epoch 16/20\n",
            "15/15 [==============================] - 4s 263ms/step - loss: 0.4453 - accuracy: 0.7924 - val_loss: 0.2728 - val_accuracy: 0.8750\n",
            "Epoch 17/20\n",
            "15/15 [==============================] - 4s 252ms/step - loss: 0.4771 - accuracy: 0.7768 - val_loss: 0.2678 - val_accuracy: 0.8478\n",
            "Epoch 18/20\n",
            "15/15 [==============================] - 4s 275ms/step - loss: 0.4179 - accuracy: 0.8147 - val_loss: 0.2298 - val_accuracy: 0.8182\n",
            "Epoch 19/20\n",
            "15/15 [==============================] - 4s 247ms/step - loss: 0.4455 - accuracy: 0.8125 - val_loss: 0.3259 - val_accuracy: 0.8696\n",
            "Epoch 20/20\n",
            "15/15 [==============================] - 4s 268ms/step - loss: 0.4303 - accuracy: 0.8192 - val_loss: 0.3476 - val_accuracy: 0.8636\n"
          ],
          "name": "stdout"
        }
      ]
    },
    {
      "cell_type": "markdown",
      "metadata": {
        "id": "c1-8ZeYjep6B",
        "colab_type": "text"
      },
      "source": [
        "We can see the training and testing accuracy increased by changing the optimizer and using the UNIFORM weights in the network."
      ]
    },
    {
      "cell_type": "code",
      "metadata": {
        "id": "EmlI-8N2etM7",
        "colab_type": "code",
        "colab": {}
      },
      "source": [
        ""
      ],
      "execution_count": null,
      "outputs": []
    },
    {
      "cell_type": "code",
      "metadata": {
        "id": "-j7YRxvsetQH",
        "colab_type": "code",
        "colab": {}
      },
      "source": [
        ""
      ],
      "execution_count": null,
      "outputs": []
    },
    {
      "cell_type": "code",
      "metadata": {
        "id": "jHWuXNvietT7",
        "colab_type": "code",
        "colab": {}
      },
      "source": [
        ""
      ],
      "execution_count": null,
      "outputs": []
    },
    {
      "cell_type": "code",
      "metadata": {
        "id": "zLiKchlaetW7",
        "colab_type": "code",
        "colab": {}
      },
      "source": [
        ""
      ],
      "execution_count": null,
      "outputs": []
    },
    {
      "cell_type": "code",
      "metadata": {
        "id": "_25vUXCletfw",
        "colab_type": "code",
        "colab": {}
      },
      "source": [
        ""
      ],
      "execution_count": null,
      "outputs": []
    },
    {
      "cell_type": "code",
      "metadata": {
        "id": "ikgB0NNjetjT",
        "colab_type": "code",
        "colab": {}
      },
      "source": [
        ""
      ],
      "execution_count": null,
      "outputs": []
    },
    {
      "cell_type": "code",
      "metadata": {
        "id": "8uxaztfIetK2",
        "colab_type": "code",
        "colab": {}
      },
      "source": [
        ""
      ],
      "execution_count": null,
      "outputs": []
    }
  ]
}